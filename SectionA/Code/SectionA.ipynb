{
 "cells": [
  {
   "cell_type": "code",
   "execution_count": 1,
   "metadata": {},
   "outputs": [],
   "source": [
    "import numpy as np # linear algebra\n",
    "import pandas as pd # data processing, CSV file I/O (e.g. pd.read_csv)\n",
    "import matplotlib.pyplot as plt\n",
    "import calendar\n",
    "from datetime import datetime\n",
    "import seaborn as sns\n"
   ]
  },
  {
   "cell_type": "code",
   "execution_count": 2,
   "metadata": {},
   "outputs": [],
   "source": [
    "bakery_dataset = pd.read_csv(\"D:/BreadBasket_DMS.csv\")\n",
    "bakery_dataset.dropna()\n",
    "bakery_dataset = bakery_dataset[bakery_dataset['Item'] != 'NONE']\n",
    "\n",
    "bakery_dataset['Date'] = pd.to_datetime(bakery_dataset['Date'])\n",
    "bakery_dataset['Time'] = pd.to_datetime(bakery_dataset['Time'])\n",
    "bakery_dataset['Year'] = bakery_dataset['Date'].dt.year\n",
    "bakery_dataset['Month'] = bakery_dataset['Date'].dt.month\n",
    "bakery_dataset['Day'] = bakery_dataset['Date'].dt.day\n",
    "bakery_dataset['Weekday'] = bakery_dataset['Date'].dt.weekday\n",
    "bakery_dataset['Hour'] = bakery_dataset['Time'].dt.hour\n",
    "# Any results you write to the current directory are saved as output."
   ]
  },
  {
   "cell_type": "code",
   "execution_count": 3,
   "metadata": {},
   "outputs": [
    {
     "data": {
      "text/html": [
       "<div>\n",
       "<style scoped>\n",
       "    .dataframe tbody tr th:only-of-type {\n",
       "        vertical-align: middle;\n",
       "    }\n",
       "\n",
       "    .dataframe tbody tr th {\n",
       "        vertical-align: top;\n",
       "    }\n",
       "\n",
       "    .dataframe thead th {\n",
       "        text-align: right;\n",
       "    }\n",
       "</style>\n",
       "<table border=\"1\" class=\"dataframe\">\n",
       "  <thead>\n",
       "    <tr style=\"text-align: right;\">\n",
       "      <th></th>\n",
       "      <th>Date</th>\n",
       "      <th>Time</th>\n",
       "      <th>Transaction</th>\n",
       "      <th>Item</th>\n",
       "      <th>Year</th>\n",
       "      <th>Month</th>\n",
       "      <th>Day</th>\n",
       "      <th>Weekday</th>\n",
       "      <th>Hour</th>\n",
       "    </tr>\n",
       "  </thead>\n",
       "  <tbody>\n",
       "    <tr>\n",
       "      <th>0</th>\n",
       "      <td>2016-10-30</td>\n",
       "      <td>2020-10-13 09:58:11</td>\n",
       "      <td>1</td>\n",
       "      <td>Bread</td>\n",
       "      <td>2016</td>\n",
       "      <td>10</td>\n",
       "      <td>30</td>\n",
       "      <td>6</td>\n",
       "      <td>9</td>\n",
       "    </tr>\n",
       "    <tr>\n",
       "      <th>1</th>\n",
       "      <td>2016-10-30</td>\n",
       "      <td>2020-10-13 10:05:34</td>\n",
       "      <td>2</td>\n",
       "      <td>Scandinavian</td>\n",
       "      <td>2016</td>\n",
       "      <td>10</td>\n",
       "      <td>30</td>\n",
       "      <td>6</td>\n",
       "      <td>10</td>\n",
       "    </tr>\n",
       "    <tr>\n",
       "      <th>2</th>\n",
       "      <td>2016-10-30</td>\n",
       "      <td>2020-10-13 10:05:34</td>\n",
       "      <td>2</td>\n",
       "      <td>Scandinavian</td>\n",
       "      <td>2016</td>\n",
       "      <td>10</td>\n",
       "      <td>30</td>\n",
       "      <td>6</td>\n",
       "      <td>10</td>\n",
       "    </tr>\n",
       "    <tr>\n",
       "      <th>3</th>\n",
       "      <td>2016-10-30</td>\n",
       "      <td>2020-10-13 10:07:57</td>\n",
       "      <td>3</td>\n",
       "      <td>Hot chocolate</td>\n",
       "      <td>2016</td>\n",
       "      <td>10</td>\n",
       "      <td>30</td>\n",
       "      <td>6</td>\n",
       "      <td>10</td>\n",
       "    </tr>\n",
       "    <tr>\n",
       "      <th>4</th>\n",
       "      <td>2016-10-30</td>\n",
       "      <td>2020-10-13 10:07:57</td>\n",
       "      <td>3</td>\n",
       "      <td>Jam</td>\n",
       "      <td>2016</td>\n",
       "      <td>10</td>\n",
       "      <td>30</td>\n",
       "      <td>6</td>\n",
       "      <td>10</td>\n",
       "    </tr>\n",
       "    <tr>\n",
       "      <th>5</th>\n",
       "      <td>2016-10-30</td>\n",
       "      <td>2020-10-13 10:07:57</td>\n",
       "      <td>3</td>\n",
       "      <td>Cookies</td>\n",
       "      <td>2016</td>\n",
       "      <td>10</td>\n",
       "      <td>30</td>\n",
       "      <td>6</td>\n",
       "      <td>10</td>\n",
       "    </tr>\n",
       "    <tr>\n",
       "      <th>6</th>\n",
       "      <td>2016-10-30</td>\n",
       "      <td>2020-10-13 10:08:41</td>\n",
       "      <td>4</td>\n",
       "      <td>Muffin</td>\n",
       "      <td>2016</td>\n",
       "      <td>10</td>\n",
       "      <td>30</td>\n",
       "      <td>6</td>\n",
       "      <td>10</td>\n",
       "    </tr>\n",
       "    <tr>\n",
       "      <th>7</th>\n",
       "      <td>2016-10-30</td>\n",
       "      <td>2020-10-13 10:13:03</td>\n",
       "      <td>5</td>\n",
       "      <td>Coffee</td>\n",
       "      <td>2016</td>\n",
       "      <td>10</td>\n",
       "      <td>30</td>\n",
       "      <td>6</td>\n",
       "      <td>10</td>\n",
       "    </tr>\n",
       "    <tr>\n",
       "      <th>8</th>\n",
       "      <td>2016-10-30</td>\n",
       "      <td>2020-10-13 10:13:03</td>\n",
       "      <td>5</td>\n",
       "      <td>Pastry</td>\n",
       "      <td>2016</td>\n",
       "      <td>10</td>\n",
       "      <td>30</td>\n",
       "      <td>6</td>\n",
       "      <td>10</td>\n",
       "    </tr>\n",
       "    <tr>\n",
       "      <th>9</th>\n",
       "      <td>2016-10-30</td>\n",
       "      <td>2020-10-13 10:13:03</td>\n",
       "      <td>5</td>\n",
       "      <td>Bread</td>\n",
       "      <td>2016</td>\n",
       "      <td>10</td>\n",
       "      <td>30</td>\n",
       "      <td>6</td>\n",
       "      <td>10</td>\n",
       "    </tr>\n",
       "  </tbody>\n",
       "</table>\n",
       "</div>"
      ],
      "text/plain": [
       "        Date                Time  Transaction           Item  Year  Month  \\\n",
       "0 2016-10-30 2020-10-13 09:58:11            1          Bread  2016     10   \n",
       "1 2016-10-30 2020-10-13 10:05:34            2   Scandinavian  2016     10   \n",
       "2 2016-10-30 2020-10-13 10:05:34            2   Scandinavian  2016     10   \n",
       "3 2016-10-30 2020-10-13 10:07:57            3  Hot chocolate  2016     10   \n",
       "4 2016-10-30 2020-10-13 10:07:57            3            Jam  2016     10   \n",
       "5 2016-10-30 2020-10-13 10:07:57            3        Cookies  2016     10   \n",
       "6 2016-10-30 2020-10-13 10:08:41            4         Muffin  2016     10   \n",
       "7 2016-10-30 2020-10-13 10:13:03            5         Coffee  2016     10   \n",
       "8 2016-10-30 2020-10-13 10:13:03            5         Pastry  2016     10   \n",
       "9 2016-10-30 2020-10-13 10:13:03            5          Bread  2016     10   \n",
       "\n",
       "   Day  Weekday  Hour  \n",
       "0   30        6     9  \n",
       "1   30        6    10  \n",
       "2   30        6    10  \n",
       "3   30        6    10  \n",
       "4   30        6    10  \n",
       "5   30        6    10  \n",
       "6   30        6    10  \n",
       "7   30        6    10  \n",
       "8   30        6    10  \n",
       "9   30        6    10  "
      ]
     },
     "execution_count": 3,
     "metadata": {},
     "output_type": "execute_result"
    }
   ],
   "source": [
    "bakery_dataset.head(10)"
   ]
  },
  {
   "cell_type": "code",
   "execution_count": 4,
   "metadata": {},
   "outputs": [
    {
     "data": {
      "text/html": [
       "<div>\n",
       "<style scoped>\n",
       "    .dataframe tbody tr th:only-of-type {\n",
       "        vertical-align: middle;\n",
       "    }\n",
       "\n",
       "    .dataframe tbody tr th {\n",
       "        vertical-align: top;\n",
       "    }\n",
       "\n",
       "    .dataframe thead th {\n",
       "        text-align: right;\n",
       "    }\n",
       "</style>\n",
       "<table border=\"1\" class=\"dataframe\">\n",
       "  <thead>\n",
       "    <tr style=\"text-align: right;\">\n",
       "      <th></th>\n",
       "      <th>Date</th>\n",
       "      <th>Time</th>\n",
       "      <th>Transaction</th>\n",
       "      <th>Item</th>\n",
       "      <th>Year</th>\n",
       "      <th>Month</th>\n",
       "      <th>Day</th>\n",
       "      <th>Weekday</th>\n",
       "      <th>Hour</th>\n",
       "    </tr>\n",
       "  </thead>\n",
       "  <tbody>\n",
       "    <tr>\n",
       "      <th>21283</th>\n",
       "      <td>2017-09-04</td>\n",
       "      <td>2020-10-13 14:30:09</td>\n",
       "      <td>9681</td>\n",
       "      <td>Tea</td>\n",
       "      <td>2017</td>\n",
       "      <td>9</td>\n",
       "      <td>4</td>\n",
       "      <td>0</td>\n",
       "      <td>14</td>\n",
       "    </tr>\n",
       "    <tr>\n",
       "      <th>21284</th>\n",
       "      <td>2017-09-04</td>\n",
       "      <td>2020-10-13 14:30:09</td>\n",
       "      <td>9681</td>\n",
       "      <td>Spanish Brunch</td>\n",
       "      <td>2017</td>\n",
       "      <td>9</td>\n",
       "      <td>4</td>\n",
       "      <td>0</td>\n",
       "      <td>14</td>\n",
       "    </tr>\n",
       "    <tr>\n",
       "      <th>21285</th>\n",
       "      <td>2017-09-04</td>\n",
       "      <td>2020-10-13 14:30:09</td>\n",
       "      <td>9681</td>\n",
       "      <td>Christmas common</td>\n",
       "      <td>2017</td>\n",
       "      <td>9</td>\n",
       "      <td>4</td>\n",
       "      <td>0</td>\n",
       "      <td>14</td>\n",
       "    </tr>\n",
       "    <tr>\n",
       "      <th>21286</th>\n",
       "      <td>2017-09-04</td>\n",
       "      <td>2020-10-13 14:32:58</td>\n",
       "      <td>9682</td>\n",
       "      <td>Muffin</td>\n",
       "      <td>2017</td>\n",
       "      <td>9</td>\n",
       "      <td>4</td>\n",
       "      <td>0</td>\n",
       "      <td>14</td>\n",
       "    </tr>\n",
       "    <tr>\n",
       "      <th>21287</th>\n",
       "      <td>2017-09-04</td>\n",
       "      <td>2020-10-13 14:32:58</td>\n",
       "      <td>9682</td>\n",
       "      <td>Tacos/Fajita</td>\n",
       "      <td>2017</td>\n",
       "      <td>9</td>\n",
       "      <td>4</td>\n",
       "      <td>0</td>\n",
       "      <td>14</td>\n",
       "    </tr>\n",
       "    <tr>\n",
       "      <th>21288</th>\n",
       "      <td>2017-09-04</td>\n",
       "      <td>2020-10-13 14:32:58</td>\n",
       "      <td>9682</td>\n",
       "      <td>Coffee</td>\n",
       "      <td>2017</td>\n",
       "      <td>9</td>\n",
       "      <td>4</td>\n",
       "      <td>0</td>\n",
       "      <td>14</td>\n",
       "    </tr>\n",
       "    <tr>\n",
       "      <th>21289</th>\n",
       "      <td>2017-09-04</td>\n",
       "      <td>2020-10-13 14:32:58</td>\n",
       "      <td>9682</td>\n",
       "      <td>Tea</td>\n",
       "      <td>2017</td>\n",
       "      <td>9</td>\n",
       "      <td>4</td>\n",
       "      <td>0</td>\n",
       "      <td>14</td>\n",
       "    </tr>\n",
       "    <tr>\n",
       "      <th>21290</th>\n",
       "      <td>2017-09-04</td>\n",
       "      <td>2020-10-13 14:57:06</td>\n",
       "      <td>9683</td>\n",
       "      <td>Coffee</td>\n",
       "      <td>2017</td>\n",
       "      <td>9</td>\n",
       "      <td>4</td>\n",
       "      <td>0</td>\n",
       "      <td>14</td>\n",
       "    </tr>\n",
       "    <tr>\n",
       "      <th>21291</th>\n",
       "      <td>2017-09-04</td>\n",
       "      <td>2020-10-13 14:57:06</td>\n",
       "      <td>9683</td>\n",
       "      <td>Pastry</td>\n",
       "      <td>2017</td>\n",
       "      <td>9</td>\n",
       "      <td>4</td>\n",
       "      <td>0</td>\n",
       "      <td>14</td>\n",
       "    </tr>\n",
       "    <tr>\n",
       "      <th>21292</th>\n",
       "      <td>2017-09-04</td>\n",
       "      <td>2020-10-13 15:04:24</td>\n",
       "      <td>9684</td>\n",
       "      <td>Smoothies</td>\n",
       "      <td>2017</td>\n",
       "      <td>9</td>\n",
       "      <td>4</td>\n",
       "      <td>0</td>\n",
       "      <td>15</td>\n",
       "    </tr>\n",
       "  </tbody>\n",
       "</table>\n",
       "</div>"
      ],
      "text/plain": [
       "            Date                Time  Transaction              Item  Year  \\\n",
       "21283 2017-09-04 2020-10-13 14:30:09         9681               Tea  2017   \n",
       "21284 2017-09-04 2020-10-13 14:30:09         9681    Spanish Brunch  2017   \n",
       "21285 2017-09-04 2020-10-13 14:30:09         9681  Christmas common  2017   \n",
       "21286 2017-09-04 2020-10-13 14:32:58         9682            Muffin  2017   \n",
       "21287 2017-09-04 2020-10-13 14:32:58         9682      Tacos/Fajita  2017   \n",
       "21288 2017-09-04 2020-10-13 14:32:58         9682            Coffee  2017   \n",
       "21289 2017-09-04 2020-10-13 14:32:58         9682               Tea  2017   \n",
       "21290 2017-09-04 2020-10-13 14:57:06         9683            Coffee  2017   \n",
       "21291 2017-09-04 2020-10-13 14:57:06         9683            Pastry  2017   \n",
       "21292 2017-09-04 2020-10-13 15:04:24         9684         Smoothies  2017   \n",
       "\n",
       "       Month  Day  Weekday  Hour  \n",
       "21283      9    4        0    14  \n",
       "21284      9    4        0    14  \n",
       "21285      9    4        0    14  \n",
       "21286      9    4        0    14  \n",
       "21287      9    4        0    14  \n",
       "21288      9    4        0    14  \n",
       "21289      9    4        0    14  \n",
       "21290      9    4        0    14  \n",
       "21291      9    4        0    14  \n",
       "21292      9    4        0    15  "
      ]
     },
     "execution_count": 4,
     "metadata": {},
     "output_type": "execute_result"
    }
   ],
   "source": [
    "bakery_dataset.tail(10)"
   ]
  },
  {
   "cell_type": "code",
   "execution_count": 15,
   "metadata": {},
   "outputs": [
    {
     "name": "stdout",
     "output_type": "stream",
     "text": [
      "\n",
      "Question 1\n"
     ]
    },
    {
     "data": {
      "image/png": "[encoded data removed]",
      "text/plain": [
       "<Figure size 432x288 with 1 Axes>"
      ]
     },
     "metadata": {
      "needs_background": "light"
     },
     "output_type": "display_data"
    },
    {
     "name": "stdout",
     "output_type": "stream",
     "text": [
      "Top 10 most popular items: \n",
      " ['Coffee', 'Bread', 'Tea', 'Cake', 'Pastry', 'Sandwich', 'Medialuna', 'Hot chocolate', 'Cookies', 'Brownie']\n"
     ]
    }
   ],
   "source": [
    "def map_indexes_and_values(df, col):\n",
    "    df_col = df[col].value_counts()\n",
    "    x = df_col.index.tolist()\n",
    "    y = df_col.values.tolist()\n",
    "    return x, y\n",
    "\n",
    "weekmap = {0:'Mon', 1:'Tue', 2:'Wed', 3:'Thu', 4:'Fri', 5:'Sat', 6:'Sun'}\n",
    "print('')\n",
    "\n",
    "# count of the five most popular items\n",
    "popular_items, popular_items_count = map_indexes_and_values(bakery_dataset, 'Item')\n",
    "plt.bar(popular_items[:10], popular_items_count[:10])\n",
    "\n",
    "print(\"Question 1\")\n",
    "plt.xlabel('Top 10 most popular Items')\n",
    "plt.ylabel('Number of Transactions')\n",
    "plt.show()\n",
    "\n",
    "print(\"Top 10 most popular items:\",\"\\n\", popular_items[:10])"
   ]
  },
  {
   "cell_type": "code",
   "execution_count": 14,
   "metadata": {},
   "outputs": [
    {
     "name": "stdout",
     "output_type": "stream",
     "text": [
      "Question2\n"
     ]
    },
    {
     "data": {
      "image/png": "[encoded data removed]",
      "text/plain": [
       "<Figure size 432x288 with 1 Axes>"
      ]
     },
     "metadata": {
      "needs_background": "light"
     },
     "output_type": "display_data"
    },
    {
     "name": "stdout",
     "output_type": "stream",
     "text": [
      "5 most popular items in 2016 is: \n",
      "         Date                Time  Transaction           Item  Year  Month  \\\n",
      "0 2016-10-30 2020-10-13 09:58:11            1          Bread  2016     10   \n",
      "1 2016-10-30 2020-10-13 10:05:34            2   Scandinavian  2016     10   \n",
      "2 2016-10-30 2020-10-13 10:05:34            2   Scandinavian  2016     10   \n",
      "3 2016-10-30 2020-10-13 10:07:57            3  Hot chocolate  2016     10   \n",
      "4 2016-10-30 2020-10-13 10:07:57            3            Jam  2016     10   \n",
      "\n",
      "   Day  Weekday  Hour  \n",
      "0   30        6     9  \n",
      "1   30        6    10  \n",
      "2   30        6    10  \n",
      "3   30        6    10  \n",
      "4   30        6    10  \n"
     ]
    }
   ],
   "source": [
    "# top items in 2016\n",
    "\n",
    "print(\"Question2\")\n",
    "first_year_data = bakery_dataset[bakery_dataset['Year'] == 2016]\n",
    "x, y = map_indexes_and_values(first_year_data, 'Item')\n",
    "plt.bar(x[:5], y[:5], color='r', label='2016')\n",
    "plt.xlabel('Most popular Items')\n",
    "plt.ylabel('Number of Transactions')\n",
    "plt.legend()\n",
    "plt.show()\n",
    "\n",
    "print(\"5 most popular items in 2016 is:\",\"\\n\", first_year_data[:5])"
   ]
  },
  {
   "cell_type": "code",
   "execution_count": 13,
   "metadata": {},
   "outputs": [
    {
     "name": "stdout",
     "output_type": "stream",
     "text": [
      "Question 3\n"
     ]
    },
    {
     "data": {
      "image/png": "[encoded data removed]",
      "text/plain": [
       "<Figure size 432x288 with 1 Axes>"
      ]
     },
     "metadata": {
      "needs_background": "light"
     },
     "output_type": "display_data"
    },
    {
     "name": "stdout",
     "output_type": "stream",
     "text": [
      "5 most popular items in 2017 is: \n",
      "            Date                Time  Transaction        Item  Year  Month  \\\n",
      "8561 2017-01-01 2020-10-13 01:21:05         4090       Bread  2017      1   \n",
      "8562 2017-03-01 2020-10-13 09:08:01         4094      Coffee  2017      3   \n",
      "8563 2017-03-01 2020-10-13 09:14:31         4095      Coffee  2017      3   \n",
      "8564 2017-03-01 2020-10-13 09:14:31         4095       Toast  2017      3   \n",
      "8565 2017-03-01 2020-10-13 09:17:54         4096  Farm House  2017      3   \n",
      "\n",
      "      Day  Weekday  Hour  \n",
      "8561    1        6     1  \n",
      "8562    1        2     9  \n",
      "8563    1        2     9  \n",
      "8564    1        2     9  \n",
      "8565    1        2     9  \n"
     ]
    }
   ],
   "source": [
    "\n",
    "# top items in 2017\n",
    "print(\"Question 3\")\n",
    "second_year_data = bakery_dataset[bakery_dataset['Year'] == 2017]\n",
    "x, y = map_indexes_and_values(second_year_data, 'Item')\n",
    "plt.bar(x[:5], y[:5], color='g', label='2017')\n",
    "plt.xlabel('Most popular Items')\n",
    "plt.ylabel('Number of Transactions')\n",
    "plt.legend()\n",
    "plt.show()\n",
    "\n",
    "print(\"5 most popular items in 2017 is:\", \"\\n\",second_year_data[:5])"
   ]
  },
  {
   "cell_type": "code",
   "execution_count": 12,
   "metadata": {},
   "outputs": [
    {
     "name": "stdout",
     "output_type": "stream",
     "text": [
      "Question 4\n"
     ]
    },
    {
     "data": {
      "image/png": "[encoded data removed]",
      "text/plain": [
       "<Figure size 432x288 with 1 Axes>"
      ]
     },
     "metadata": {
      "needs_background": "light"
     },
     "output_type": "display_data"
    },
    {
     "name": "stdout",
     "output_type": "stream",
     "text": [
      "5 most popular items sold on monday is: \n",
      "           Date                Time  Transaction     Item  Year  Month  Day  \\\n",
      "180 2016-10-31 2020-10-13 08:28:31           81   Coffee  2016     10   31   \n",
      "181 2016-10-31 2020-10-13 08:28:31           81     Cake  2016     10   31   \n",
      "182 2016-10-31 2020-10-13 08:47:05           82  Tartine  2016     10   31   \n",
      "184 2016-10-31 2020-10-13 08:47:05           82    Bread  2016     10   31   \n",
      "185 2016-10-31 2020-10-13 08:57:47           83   Coffee  2016     10   31   \n",
      "\n",
      "     Weekday  Hour  \n",
      "180        0     8  \n",
      "181        0     8  \n",
      "182        0     8  \n",
      "184        0     8  \n",
      "185        0     8  \n"
     ]
    }
   ],
   "source": [
    "print(\"Question 4\")\n",
    "monday_info = bakery_dataset[bakery_dataset['Weekday'] == 0]\n",
    "item, item_count = map_indexes_and_values(monday_info, 'Item')\n",
    "\n",
    "plt.bar(item[:5], item_count[:5], color='y', label='Monday')\n",
    "plt.xlabel('Popular items on Monday')\n",
    "plt.ylabel('Number of Transactions')\n",
    "plt.show()\n",
    "\n",
    "print(\"5 most popular items sold on monday is:\",\"\\n\", monday_info[:5])"
   ]
  },
  {
   "cell_type": "code",
   "execution_count": 16,
   "metadata": {},
   "outputs": [
    {
     "name": "stdout",
     "output_type": "stream",
     "text": [
      "Question 5\n"
     ]
    },
    {
     "data": {
      "image/png": "[encoded data removed]",
      "text/plain": [
       "<Figure size 432x288 with 1 Axes>"
      ]
     },
     "metadata": {
      "needs_background": "light"
     },
     "output_type": "display_data"
    }
   ],
   "source": [
    "print(\"Question 5\")\n",
    "bakery_dataset.groupby('Month')['Transaction'].nunique().plot(kind='bar', title='Number of items sold per month. ')\n",
    "plt.xlabel('Months')\n",
    "plt.ylabel('Number of Transactions')\n",
    "plt.show()\n"
   ]
  },
  {
   "cell_type": "code",
   "execution_count": 17,
   "metadata": {},
   "outputs": [
    {
     "name": "stdout",
     "output_type": "stream",
     "text": [
      "Question 6\n"
     ]
    },
    {
     "data": {
      "image/png": "[encoded data removed]",
      "text/plain": [
       "<Figure size 432x288 with 1 Axes>"
      ]
     },
     "metadata": {
      "needs_background": "light"
     },
     "output_type": "display_data"
    }
   ],
   "source": [
    "print(\"Question 6\")\n",
    "bakery_dataset.groupby('Weekday')['Transaction'].nunique().plot(kind='bar', title='Number of items sold per weekday.')\n",
    "plt.xlabel('Days')\n",
    "plt.ylabel('Number of Transactions')\n",
    "plt.show()"
   ]
  },
  {
   "cell_type": "code",
   "execution_count": 19,
   "metadata": {},
   "outputs": [
    {
     "name": "stdout",
     "output_type": "stream",
     "text": [
      "Question 7\n"
     ]
    },
    {
     "data": {
      "image/png": "[encoded data removed]",
      "text/plain": [
       "<Figure size 432x288 with 1 Axes>"
      ]
     },
     "metadata": {
      "needs_background": "light"
     },
     "output_type": "display_data"
    }
   ],
   "source": [
    "print(\"Question 7\")\n",
    "bakery_dataset.groupby('Hour')['Transaction'].nunique().plot(kind='bar', title='Number of items sold per hour.')\n",
    "plt.xlabel('Hour')\n",
    "plt.ylabel('Number of Transactions')\n",
    "plt.show()"
   ]
  },
  {
   "cell_type": "code",
   "execution_count": 20,
   "metadata": {},
   "outputs": [],
   "source": [
    "def coffee_ext(group):\n",
    "    match = group['Item'].str.contains('Coffee')\n",
    "    return bakery_dataset.loc[match]\n",
    "\n",
    "# Let's get the transaction numbers of all the transactions that have coffee.\n",
    "coffee = bakery_dataset[ bakery_dataset['Item'].str.contains('Coffee')]['Transaction'].unique()"
   ]
  },
  {
   "cell_type": "code",
   "execution_count": 21,
   "metadata": {},
   "outputs": [],
   "source": [
    "# Now that we have all the coffee transactions, we can do a left join with coffee\n",
    "coffee = pd.DataFrame(coffee,columns=['Transaction'])\n",
    "coffee_m=coffee.merge(bakery_dataset, left_on='Transaction',right_on='Transaction',how='right')\n",
    "# Remove all the coffee rows, groupby transaction and tally up the items\n",
    "coffee_m = coffee_m[~coffee_m.Item.str.contains('Coffee')]['Item'].value_counts()"
   ]
  },
  {
   "cell_type": "code",
   "execution_count": 23,
   "metadata": {},
   "outputs": [
    {
     "name": "stdout",
     "output_type": "stream",
     "text": [
      "Question 8\n"
     ]
    },
    {
     "data": {
      "image/png": "[encoded data removed]",
      "text/plain": [
       "<Figure size 720x432 with 1 Axes>"
      ]
     },
     "metadata": {
      "needs_background": "light"
     },
     "output_type": "display_data"
    }
   ],
   "source": [
    "print(\"Question 8\")\n",
    "plt.figure(figsize=(10,6))\n",
    "coffee_m[:5].plot(kind='bar')\n",
    "plt.show()"
   ]
  },
  {
   "cell_type": "code",
   "execution_count": 24,
   "metadata": {},
   "outputs": [
    {
     "name": "stdout",
     "output_type": "stream",
     "text": [
      "Question 9\n",
      "2017-04-02    72\n",
      "2017-02-26    57\n",
      "2017-04-03    57\n",
      "2017-01-28    56\n",
      "2017-05-02    55\n",
      "Name: Date, dtype: int64\n"
     ]
    },
    {
     "data": {
      "image/png": "[encoded data removed]",
      "text/plain": [
       "<Figure size 432x288 with 1 Axes>"
      ]
     },
     "metadata": {
      "needs_background": "light"
     },
     "output_type": "display_data"
    }
   ],
   "source": [
    "print(\"Question 9\")\n",
    "bakery_dataset['Date'] = pd.to_datetime(bakery_dataset['Date'], format='%d-%m-%Y', errors='coerce')\n",
    "bakery_dataset['year'] = bakery_dataset['Date'].dt.year\n",
    "\n",
    "yearsetup=bakery_dataset.loc[bakery_dataset['year']==2017]\n",
    "\n",
    "coffee=yearsetup.set_index(['Item'])\n",
    "onlycoffee=coffee.loc['Coffee']\n",
    "onlycoffee.reset_index(inplace=True)\n",
    "\n",
    "popular=onlycoffee['Date'].value_counts()\n",
    "print(popular.head())\n",
    "popular.head().plot(kind='line', color='orange', marker='o')\n",
    "plt.xlabel('Dates')\n",
    "plt.ylabel('Number of Transactions')\n",
    "plt.title('Five most Coffee Sales day in 2017.')\n",
    "plt.show()"
   ]
  },
  {
   "cell_type": "code",
   "execution_count": 30,
   "metadata": {},
   "outputs": [
    {
     "ename": "NameError",
     "evalue": "name 'order' is not defined",
     "output_type": "error",
     "traceback": [
      "\u001b[1;31m---------------------------------------------------------------------------\u001b[0m",
      "\u001b[1;31mNameError\u001b[0m                                 Traceback (most recent call last)",
      "\u001b[1;32m<ipython-input-30-fe7989dd7d09>\u001b[0m in \u001b[0;36m<module>\u001b[1;34m\u001b[0m\n\u001b[0;32m      5\u001b[0m \u001b[1;32mfor\u001b[0m \u001b[0mj\u001b[0m\u001b[1;33m,\u001b[0m\u001b[0mx\u001b[0m \u001b[1;32min\u001b[0m \u001b[0menumerate\u001b[0m\u001b[1;33m(\u001b[0m\u001b[0mx2\u001b[0m\u001b[1;33m)\u001b[0m\u001b[1;33m:\u001b[0m\u001b[1;33m\u001b[0m\u001b[1;33m\u001b[0m\u001b[0m\n\u001b[0;32m      6\u001b[0m     \u001b[0mwkmp\u001b[0m\u001b[1;33m[\u001b[0m\u001b[0mx\u001b[0m\u001b[1;33m]\u001b[0m \u001b[1;33m=\u001b[0m \u001b[0mweekday_count\u001b[0m\u001b[1;33m[\u001b[0m\u001b[0mj\u001b[0m\u001b[1;33m]\u001b[0m\u001b[1;33m\u001b[0m\u001b[1;33m\u001b[0m\u001b[0m\n\u001b[1;32m----> 7\u001b[1;33m \u001b[0mordervals\u001b[0m \u001b[1;33m=\u001b[0m \u001b[1;33m[\u001b[0m\u001b[0mwkmp\u001b[0m\u001b[1;33m[\u001b[0m\u001b[0mval\u001b[0m\u001b[1;33m]\u001b[0m \u001b[1;32mfor\u001b[0m \u001b[0mval\u001b[0m \u001b[1;32min\u001b[0m \u001b[0morder\u001b[0m\u001b[1;33m]\u001b[0m\u001b[1;33m\u001b[0m\u001b[1;33m\u001b[0m\u001b[0m\n\u001b[0m\u001b[0;32m      8\u001b[0m \u001b[0mplt\u001b[0m\u001b[1;33m.\u001b[0m\u001b[0mbar\u001b[0m\u001b[1;33m(\u001b[0m\u001b[0morder\u001b[0m\u001b[1;33m,\u001b[0m \u001b[0mordervals\u001b[0m\u001b[1;33m,\u001b[0m \u001b[0mcolor\u001b[0m\u001b[1;33m=\u001b[0m\u001b[1;34m'gold'\u001b[0m\u001b[1;33m)\u001b[0m\u001b[1;33m\u001b[0m\u001b[1;33m\u001b[0m\u001b[0m\n\u001b[0;32m      9\u001b[0m \u001b[0mplt\u001b[0m\u001b[1;33m.\u001b[0m\u001b[0mxlabel\u001b[0m\u001b[1;33m(\u001b[0m\u001b[1;34m'Weekday'\u001b[0m\u001b[1;33m)\u001b[0m\u001b[1;33m\u001b[0m\u001b[1;33m\u001b[0m\u001b[0m\n",
      "\u001b[1;31mNameError\u001b[0m: name 'order' is not defined"
     ]
    }
   ],
   "source": [
    "print(\"Question 10\")\n",
    "second_item = bakery_dataset[bakery_dataset['Item'] == popular_items[1]]\n",
    "weekday, weekday_count = map_indexes_and_values(second_item, 'Weekday')\n",
    "x2 = [weekmap[x] for x in weekday]\n",
    "wkmp = {}\n",
    "for j,x in enumerate(x2):\n",
    "    wkmp[x] = weekday_count[j]\n",
    "ordervals = [wkmp[val] for val in order]\n",
    "plt.bar(order, ordervals, color='gold')\n",
    "plt.xlabel('Weekday')\n",
    "plt.ylabel('Number of Transactions')\n",
    "plt.title('Popularity of '+popular_items[1]+' by weekday')\n",
    "plt.show()"
   ]
  },
  {
   "cell_type": "code",
   "execution_count": null,
   "metadata": {},
   "outputs": [],
   "source": []
  }
 ],
 "metadata": {
  "kernelspec": {
   "display_name": "Python 3",
   "language": "python",
   "name": "python3"
  },
  "language_info": {
   "codemirror_mode": {
    "name": "ipython",
    "version": 3
   },
   "file_extension": ".py",
   "mimetype": "text/x-python",
   "name": "python",
   "nbconvert_exporter": "python",
   "pygments_lexer": "ipython3",
   "version": "3.8.3"
  }
 },
 "nbformat": 4,
 "nbformat_minor": 4
}
